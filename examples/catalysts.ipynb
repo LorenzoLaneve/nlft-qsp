{
 "cells": [
  {
   "cell_type": "code",
   "execution_count": 1,
   "metadata": {},
   "outputs": [
    {
     "name": "stdout",
     "output_type": "stream",
     "text": [
      "NumpyBackend -- chosen dtypes: complex128, float64\n"
     ]
    }
   ],
   "source": [
    "from nlft_qsp.nlft import NonLinearFourierSequence\n",
    "from nlft_qsp.rand import random_sequence\n",
    "from nlft_qsp.catalysts import catalyst_consumer\n",
    "\n",
    "import weiss"
   ]
  },
  {
   "cell_type": "code",
   "execution_count": 2,
   "metadata": {},
   "outputs": [
    {
     "name": "stdout",
     "output_type": "stream",
     "text": [
      "(-0.009900495086630566+0j) z^0 + 0j z^1 + (-0.1980099017326114+0j) z^2 + 0j z^3 + (9.900495086630906e-05+0j) z^4\n",
      "(0.0009900495086631045+0j) z^0 + 0j z^1 + (-0.9801490135764264+0j) z^2 + 0j z^3 + (0.0009900495086630576+0j) z^4\n",
      "1.5432068880170918e-16\n"
     ]
    }
   ],
   "source": [
    "n = 4\n",
    "\n",
    "nlft = NonLinearFourierSequence(random_sequence(10, n))\n",
    "nlft = NonLinearFourierSequence([10000000,0,10000,0,1000000])\n",
    "nlft = NonLinearFourierSequence([10,0,100,0,10])\n",
    "\n",
    "P, Q = nlft.transform()\n",
    "#P = weiss.complete(Q)\n",
    "P = P.shift(n)\n",
    "\n",
    "print(P)\n",
    "print(Q)\n",
    "\n",
    "print((P * P.conjugate() + Q * Q.conjugate() - 1).l2_norm())"
   ]
  },
  {
   "cell_type": "code",
   "execution_count": 3,
   "metadata": {},
   "outputs": [
    {
     "name": "stdout",
     "output_type": "stream",
     "text": [
      "[np.complex128(9.999999907358685+0j), np.complex128(1.4901161193847656e-08j), np.complex128(100.000000908163+0j), np.complex128(0j), np.complex128(0.10000000000000332+0j)]\n",
      "[np.complex128(10+0j), np.complex128(0j), np.complex128(100+0j), np.complex128(0j), np.complex128(10+0j)]\n"
     ]
    }
   ],
   "source": [
    "F = catalyst_consumer(P, Q)\n",
    "\n",
    "print(F.coeffs)\n",
    "\n",
    "print(nlft.coeffs)"
   ]
  }
 ],
 "metadata": {
  "kernelspec": {
   "display_name": ".venv",
   "language": "python",
   "name": "python3"
  },
  "language_info": {
   "codemirror_mode": {
    "name": "ipython",
    "version": 3
   },
   "file_extension": ".py",
   "mimetype": "text/x-python",
   "name": "python",
   "nbconvert_exporter": "python",
   "pygments_lexer": "ipython3",
   "version": "3.12.10"
  }
 },
 "nbformat": 4,
 "nbformat_minor": 2
}

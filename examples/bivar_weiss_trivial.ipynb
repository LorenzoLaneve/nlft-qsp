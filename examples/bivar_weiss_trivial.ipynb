{
 "cells": [
  {
   "cell_type": "code",
   "execution_count": 1,
   "metadata": {},
   "outputs": [],
   "source": [
    "import sys, os\n",
    "sys.path.insert(0, os.path.abspath(os.path.join(os.getcwd(), '../nlft_qsp')))"
   ]
  },
  {
   "cell_type": "code",
   "execution_count": 2,
   "metadata": {},
   "outputs": [
    {
     "name": "stdout",
     "output_type": "stream",
     "text": [
      "NumpyBackend -- chosen dtypes: complex128, float64\n"
     ]
    }
   ],
   "source": [
    "from poly_md import PolynomialMD\n",
    "\n",
    "b = PolynomialMD([\n",
    "    [1/4, 0, 0],\n",
    "    [0, 0, 0],\n",
    "    [0, 0, 1/4]], support_start=(0, 0)) # 1/4 (1 + (ab)^2)\n",
    "\n",
    "b = PolynomialMD([\n",
    "    [1/4, 0, 0],\n",
    "    [0, 0, 1/4]], support_start=(0, 0)) # 1/4 (1 + a^2 b)\n",
    "\n",
    "#b = PolynomialMD([[1/4, 0, 1/4]], support_start=(0, 0)) # 1/4 (1 + a^2)\n",
    "\n",
    "#b = PolynomialMD([[1/4], [0], [1/4]], support_start=(0, 0)) # 1/4 (1 + b^2)"
   ]
  },
  {
   "cell_type": "code",
   "execution_count": 3,
   "metadata": {},
   "outputs": [
    {
     "name": "stdout",
     "output_type": "stream",
     "text": [
      "N =      16, threshold = 4.7137105985157653e-07\n",
      "N =      32, threshold = 6.955729243729819e-12\n",
      "N =      64, threshold = 4.664915497257396e-16\n",
      "4.664915497257396e-16\n"
     ]
    }
   ],
   "source": [
    "import weiss\n",
    "\n",
    "a2 = weiss.complete_md(b, verbose=True)\n",
    "\n",
    "print((a2*a2.conjugate() + b*b.conjugate() - 1).l2_norm())"
   ]
  },
  {
   "cell_type": "code",
   "execution_count": null,
   "metadata": {},
   "outputs": [],
   "source": []
  }
 ],
 "metadata": {
  "kernelspec": {
   "display_name": ".venv",
   "language": "python",
   "name": "python3"
  },
  "language_info": {
   "codemirror_mode": {
    "name": "ipython",
    "version": 3
   },
   "file_extension": ".py",
   "mimetype": "text/x-python",
   "name": "python",
   "nbconvert_exporter": "python",
   "pygments_lexer": "ipython3",
   "version": "3.12.5"
  }
 },
 "nbformat": 4,
 "nbformat_minor": 2
}

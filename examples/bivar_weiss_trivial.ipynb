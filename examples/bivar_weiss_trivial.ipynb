{
 "cells": [
  {
   "cell_type": "code",
   "execution_count": 1,
   "metadata": {},
   "outputs": [],
   "source": [
    "import sys, os\n",
    "sys.path.insert(0, os.path.abspath(os.path.join(os.getcwd(), '../nlft_qsp')))"
   ]
  },
  {
   "cell_type": "code",
   "execution_count": null,
   "metadata": {},
   "outputs": [
    {
     "name": "stdout",
     "output_type": "stream",
     "text": [
      "NumpyBackend -- chosen dtypes: complex128, float64\n"
     ]
    }
   ],
   "source": [
    "from poly_md import PolynomialMD\n",
    "\n",
    "b = PolynomialMD([\n",
    "    [1/4, 0, 0],\n",
    "    [0, 0, 0],\n",
    "    [0, 0, 1/4]\n",
    "    ], support_start=(0, 0)) # 1/4 (1 + a^2 b^2)"
   ]
  },
  {
   "cell_type": "code",
   "execution_count": 3,
   "metadata": {},
   "outputs": [
    {
     "name": "stdout",
     "output_type": "stream",
     "text": [
      "N =      16, threshold = nan\n",
      "nan\n"
     ]
    },
    {
     "name": "stderr",
     "output_type": "stream",
     "text": [
      "/Users/lore/Documents/python/nlft/nlft_qsp/numerics/__init__.py:124: RuntimeWarning: divide by zero encountered in log\n",
      "  return __bd_wrapper.bd.log(x)\n",
      "/Users/lore/Documents/python/nlft/.venv/lib/python3.12/site-packages/numpy/fft/_pocketfft.py:94: RuntimeWarning: invalid value encountered in fft\n",
      "  return ufunc(a, fct, axes=[(axis,), (), (axis,)], out=out)\n",
      "/Users/lore/Documents/python/nlft/nlft_qsp/poly_md.py:382: RuntimeWarning: invalid value encountered in scalar multiply\n",
      "  st[*k] = schwarz_multiplier(k) * st[*k]\n"
     ]
    }
   ],
   "source": [
    "import weiss\n",
    "\n",
    "a2 = weiss.complete_md(b, verbose=True)\n",
    "\n",
    "print((a2*a2.conjugate() + b*b.conjugate() - 1).l2_norm())"
   ]
  }
 ],
 "metadata": {
  "kernelspec": {
   "display_name": ".venv",
   "language": "python",
   "name": "python3"
  },
  "language_info": {
   "codemirror_mode": {
    "name": "ipython",
    "version": 3
   },
   "file_extension": ".py",
   "mimetype": "text/x-python",
   "name": "python",
   "nbconvert_exporter": "python",
   "pygments_lexer": "ipython3",
   "version": "3.12.5"
  }
 },
 "nbformat": 4,
 "nbformat_minor": 2
}

{
 "cells": [
  {
   "cell_type": "code",
   "execution_count": 1,
   "metadata": {},
   "outputs": [
    {
     "name": "stdout",
     "output_type": "stream",
     "text": [
      "NumpyBackend -- chosen dtypes: complex128, float64\n"
     ]
    }
   ],
   "source": [
    "from nlft_qsp.nlft_md import StairlikeSequence2D\n",
    "from nlft_qsp.rand import random_stairlike_sequence_2d\n",
    "\n",
    "from nlft_qsp import weiss"
   ]
  },
  {
   "cell_type": "code",
   "execution_count": 2,
   "metadata": {},
   "outputs": [
    {
     "name": "stdout",
     "output_type": "stream",
     "text": [
      "9.066540865342699e-17\n"
     ]
    }
   ],
   "source": [
    "nlft = StairlikeSequence2D(random_stairlike_sequence_2d(1, directions=\">^\"))\n",
    "a, b = nlft.transform()\n",
    "\n",
    "print((a*a.conjugate() + b*b.conjugate() - 1).l2_norm())"
   ]
  },
  {
   "cell_type": "code",
   "execution_count": null,
   "metadata": {},
   "outputs": [
    {
     "name": "stdout",
     "output_type": "stream",
     "text": [
      "N =      16, threshold = 0.45520410552118395\n",
      "N =      32, threshold = 0.45722224565805364\n",
      "N =      64, threshold = 0.457486787731769\n",
      "N =     128, threshold = 0.4578613829828994\n"
     ]
    },
    {
     "ename": "WeissConvergenceError",
     "evalue": "",
     "output_type": "error",
     "traceback": [
      "\u001b[31m---------------------------------------------------------------------------\u001b[39m",
      "\u001b[31mWeissConvergenceError\u001b[39m                     Traceback (most recent call last)",
      "\u001b[36mCell\u001b[39m\u001b[36m \u001b[39m\u001b[32mIn[3]\u001b[39m\u001b[32m, line 1\u001b[39m\n\u001b[32m----> \u001b[39m\u001b[32m1\u001b[39m a2 = \u001b[43mweiss\u001b[49m\u001b[43m.\u001b[49m\u001b[43mcomplete_md\u001b[49m\u001b[43m(\u001b[49m\u001b[43mb\u001b[49m\u001b[43m,\u001b[49m\u001b[43m \u001b[49m\u001b[43mverbose\u001b[49m\u001b[43m=\u001b[49m\u001b[38;5;28;43;01mTrue\u001b[39;49;00m\u001b[43m)\u001b[49m\n\u001b[32m      3\u001b[39m \u001b[38;5;28mprint\u001b[39m((a2*a2.conjugate() + b*b.conjugate() - \u001b[32m1\u001b[39m).l2_norm())\n\u001b[32m      4\u001b[39m \u001b[38;5;66;03m# What happens if I try to also apply cross transforms like (1 + sgn)(1 - sgn) ?\u001b[39;00m\n",
      "\u001b[36mFile \u001b[39m\u001b[32m~/Documents/python/nlft/nlft_qsp/weiss.py:166\u001b[39m, in \u001b[36mcomplete_md\u001b[39m\u001b[34m(b, verbose)\u001b[39m\n\u001b[32m    164\u001b[39m     attempts += \u001b[32m1\u001b[39m\n\u001b[32m    165\u001b[39m     \u001b[38;5;28;01mif\u001b[39;00m attempts >= WEISS_MAX_ATTEMPTS:\n\u001b[32m--> \u001b[39m\u001b[32m166\u001b[39m         \u001b[38;5;28;01mraise\u001b[39;00m WeissConvergenceError()\n\u001b[32m    167\u001b[39m \u001b[38;5;28;01melse\u001b[39;00m:\n\u001b[32m    168\u001b[39m     threshold = new_thr\n",
      "\u001b[31mWeissConvergenceError\u001b[39m: "
     ]
    }
   ],
   "source": [
    "a2 = weiss.complete_md(b, verbose=True)\n",
    "\n",
    "print((a2*a2.conjugate() + b*b.conjugate() - 1).l2_norm())\n",
    "# What happens if I try to also apply cross transforms like (1 + sgn)(1 - sgn) ?"
   ]
  }
 ],
 "metadata": {
  "kernelspec": {
   "display_name": ".venv",
   "language": "python",
   "name": "python3"
  },
  "language_info": {
   "codemirror_mode": {
    "name": "ipython",
    "version": 3
   },
   "file_extension": ".py",
   "mimetype": "text/x-python",
   "name": "python",
   "nbconvert_exporter": "python",
   "pygments_lexer": "ipython3",
   "version": "3.12.5"
  }
 },
 "nbformat": 4,
 "nbformat_minor": 2
}
